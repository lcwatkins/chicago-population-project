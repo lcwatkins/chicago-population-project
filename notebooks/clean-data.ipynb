{
 "cells": [
  {
   "cell_type": "code",
   "execution_count": 1,
   "metadata": {},
   "outputs": [],
   "source": [
    "import numpy as np\n",
    "import pandas as pd\n",
    "import matplotlib.pyplot as plt\n",
    "%matplotlib inline"
   ]
  },
  {
   "cell_type": "code",
   "execution_count": 15,
   "metadata": {},
   "outputs": [],
   "source": [
    "df_2014 = pd.read_csv(\"../data/raw/CDSarchive201403/Reference_CCAProfiles_2008_2012.csv\")\n",
    "df_2015 = pd.read_csv(\"../data/raw/CDSarchive201508/Reference_CCAProfiles_2009_2013.csv\")\n",
    "df_2016 = pd.read_csv(\"../data/raw/CDSarchive201606/Reference_CCAProfiles_2010_2014.csv\")\n",
    "df_2017 = pd.read_csv(\"../data/raw/CDSarchive201706/Reference_CCAProfiles_2011_2015.csv\")\n",
    "df_2018 = pd.read_csv(\"../data/raw/CDSarchive201811/Reference_CCAProfiles_2012_2016.csv\")\n",
    "df_2019 = pd.read_csv(\"../data/raw/CDSarchive201906/Reference_CCAProfiles_2013_2017.csv\")\n",
    "df_2020 = pd.read_csv(\"../data/raw/CDSarchive202007/ReferenceCCAProfiles20142018.csv\")"
   ]
  },
  {
   "cell_type": "code",
   "execution_count": 16,
   "metadata": {},
   "outputs": [],
   "source": [
    "# starting analysis with these columns\n",
    "need_columns= ['GEOG', '2000_POP', '2010_POP', 'TOT_POP', 'YEAR', 'MEDINC', 'EMP', 'IN_LBFRC', 'OWN_OCC_HU', \n",
    "               'RENT_OCC_HU', 'VAC_HU', 'TOT_HH', 'HU_SNG_DET', 'HU_SNG_ATT', 'HU_2UN', 'HU_3_4UN', 'HU_GT_5UN', \n",
    "               'MED_HA', 'BR_0_1', 'BR_2', 'BR_3', 'BR_4', 'BR_5','WHITE', 'HISP', 'BLACK', 'ASIAN', 'OTHER']"
   ]
  },
  {
   "cell_type": "code",
   "execution_count": 458,
   "metadata": {},
   "outputs": [],
   "source": [
    "#df_2020.drop(df_2020[df_2020['GEOG'].isna()].index, inplace=True)\n",
    "#df_2020['HU_GT_5UN'] =  df_2020['HU_5_9UN'] + df_2020['HU_GT_19UN']"
   ]
  },
  {
   "cell_type": "code",
   "execution_count": 17,
   "metadata": {},
   "outputs": [],
   "source": [
    "all_dfs ={2014: df_2014, \n",
    "          2015: df_2015, \n",
    "          2016: df_2016, \n",
    "          2017: df_2017,\n",
    "          2018: df_2018,\n",
    "          2019: df_2019,\n",
    "          2020: df_2020}\n",
    "\n",
    "years = [x for x in range(2014,2021)]"
   ]
  },
  {
   "cell_type": "markdown",
   "metadata": {},
   "source": [
    "### Initial data cleaning"
   ]
  },
  {
   "cell_type": "code",
   "execution_count": 18,
   "metadata": {},
   "outputs": [],
   "source": [
    "rename_columns = {\"CCA\": \"GEOG\",\n",
    "                 'RNT_OCC_HU': 'RENT_OCC_HU',\n",
    "                  'MED_INC' : 'MEDINC'\n",
    "                 }\n",
    "df_list = []\n",
    "for y in years:\n",
    "    df = all_dfs[y]\n",
    "    ycol = [y]*len(df)\n",
    "    df['YEAR'] = ycol\n",
    "    df = df.rename(columns=rename_columns)\n",
    "    \n",
    "    c = df.columns.to_list()\n",
    "    df = df.drop(columns=list(set(c) - set(need_columns)))\n",
    "\n",
    "    df_list.append(df)\n",
    "    df.to_csv(\"../data/clean/{}.csv\".format(y))"
   ]
  },
  {
   "cell_type": "code",
   "execution_count": 19,
   "metadata": {},
   "outputs": [
    {
     "name": "stdout",
     "output_type": "stream",
     "text": [
      "1\n",
      "1\n",
      "1\n",
      "1\n",
      "1\n",
      "1\n",
      "1\n"
     ]
    }
   ],
   "source": [
    "for df in df_list:\n",
    "    print(1)\n",
    "    try:\n",
    "        df[need_columns]\n",
    "    except:\n",
    "        print(\"missing\")"
   ]
  },
  {
   "cell_type": "code",
   "execution_count": 20,
   "metadata": {},
   "outputs": [
    {
     "data": {
      "text/plain": [
       "(539, 28)"
      ]
     },
     "execution_count": 20,
     "metadata": {},
     "output_type": "execute_result"
    }
   ],
   "source": [
    "df_all_data = pd.concat(df_list)\n",
    "df_all_data.shape"
   ]
  },
  {
   "cell_type": "code",
   "execution_count": null,
   "metadata": {},
   "outputs": [],
   "source": []
  },
  {
   "cell_type": "markdown",
   "metadata": {},
   "source": [
    "### Feature generation"
   ]
  },
  {
   "cell_type": "markdown",
   "metadata": {},
   "source": [
    "##### predictor columns\n",
    "- unemployment rate\n",
    "- race\n",
    "- median income\n",
    "- income index relative to city overall?\n",
    "- % rented housing units\n",
    "- % owned housing units\n",
    "- % or number vacant\n",
    "- housing type\n",
    "- housing age\n",
    "- housing size\n"
   ]
  },
  {
   "cell_type": "code",
   "execution_count": 21,
   "metadata": {},
   "outputs": [],
   "source": [
    "employment_rate = df_all_data['EMP']/df_all_data['IN_LBFRC']\n",
    "df_all_data['EMP_RATE'] = employment_rate"
   ]
  },
  {
   "cell_type": "code",
   "execution_count": 22,
   "metadata": {},
   "outputs": [],
   "source": [
    "race_columns = ['WHITE', 'HISP', 'BLACK', 'ASIAN', 'OTHER']\n",
    "\n",
    "for race in race_columns:\n",
    "    pct = df_all_data[race]/df_all_data['TOT_POP']\n",
    "    name = race + \"_PCT\"\n",
    "    df_all_data[name] = pct"
   ]
  },
  {
   "cell_type": "code",
   "execution_count": 23,
   "metadata": {},
   "outputs": [],
   "source": [
    "rnt_own_columns = ['OWN_OCC_HU', 'RENT_OCC_HU', 'VAC_HU']\n",
    "\n",
    "for r in rnt_own_columns:\n",
    "    pct = df_all_data[r]/df_all_data['TOT_HH']\n",
    "    name = r + \"_PCT\"\n",
    "    df_all_data[name] = pct"
   ]
  },
  {
   "cell_type": "code",
   "execution_count": 24,
   "metadata": {},
   "outputs": [],
   "source": [
    "df_all_data.to_csv(\"../data/clean/clean_data.csv\")"
   ]
  },
  {
   "cell_type": "code",
   "execution_count": null,
   "metadata": {},
   "outputs": [],
   "source": []
  },
  {
   "cell_type": "code",
   "execution_count": null,
   "metadata": {},
   "outputs": [],
   "source": []
  },
  {
   "cell_type": "markdown",
   "metadata": {},
   "source": [
    "### Exploring the data"
   ]
  },
  {
   "cell_type": "code",
   "execution_count": 410,
   "metadata": {},
   "outputs": [],
   "source": [
    "df_inc_chg = pd.DataFrame({'INC_CHG': df_2020['MEDINC'] - df_2014['MEDINC'],\n",
    "                          'POP_CHG': df_2020['TOT_POP']- df_2014['TOT_POP']}).sort_values(by='INC_CHG')"
   ]
  },
  {
   "cell_type": "code",
   "execution_count": 427,
   "metadata": {},
   "outputs": [],
   "source": [
    "from sklearn.linear_model import LinearRegression\n",
    "\n",
    "x = df_inc_chg['INC_CHG'].to_numpy().reshape(-1,1)\n",
    "y = df_inc_chg['POP_CHG'].to_numpy()#.reshape(1,-1)\n",
    "\n",
    "pop_model = LinearRegression()\n",
    "pop_model.fit(x,y)\n",
    "y_predict = pop_model.predict(x)"
   ]
  },
  {
   "cell_type": "code",
   "execution_count": 453,
   "metadata": {},
   "outputs": [
    {
     "data": {
      "text/plain": [
       "Text(0.5, 1.0, 'Population change as function of \\nincome change, by neighborhood')"
      ]
     },
     "execution_count": 453,
     "metadata": {},
     "output_type": "execute_result"
    },
    {
     "data": {
      "image/png": "[encoded data removed]",
      "text/plain": [
       "<Figure size 432x288 with 1 Axes>"
      ]
     },
     "metadata": {
      "needs_background": "light"
     },
     "output_type": "display_data"
    }
   ],
   "source": [
    "plt.scatter(df_inc_chg['INC_CHG'], df_inc_chg['POP_CHG'], s=12)\n",
    "plt.plot(x, y_predict)\n",
    "plt.xlabel(\"Median Income Change ($)\")\n",
    "plt.ylabel(\"Population change (# people)\")\n",
    "plt.title(\"Population change as function of \\nincome change, by neighborhood\")"
   ]
  },
  {
   "cell_type": "code",
   "execution_count": null,
   "metadata": {},
   "outputs": [],
   "source": []
  },
  {
   "cell_type": "code",
   "execution_count": null,
   "metadata": {},
   "outputs": [],
   "source": []
  },
  {
   "cell_type": "code",
   "execution_count": 41,
   "metadata": {},
   "outputs": [
    {
     "data": {
      "text/plain": [
       "0     15844.000000\n",
       "1      2995.061630\n",
       "2      1560.087638\n",
       "3      7152.000000\n",
       "4       135.000000\n",
       "          ...     \n",
       "72     5514.000000\n",
       "73      390.481385\n",
       "74    31779.000000\n",
       "75    48721.000000\n",
       "76     1630.000000\n",
       "Name: WHITE, Length: 77, dtype: float64"
      ]
     },
     "execution_count": 41,
     "metadata": {},
     "output_type": "execute_result"
    }
   ],
   "source": [
    "df_2014['WHITE']"
   ]
  },
  {
   "cell_type": "code",
   "execution_count": 39,
   "metadata": {},
   "outputs": [
    {
     "data": {
      "text/html": [
       "<div>\n",
       "<style scoped>\n",
       "    .dataframe tbody tr th:only-of-type {\n",
       "        vertical-align: middle;\n",
       "    }\n",
       "\n",
       "    .dataframe tbody tr th {\n",
       "        vertical-align: top;\n",
       "    }\n",
       "\n",
       "    .dataframe thead th {\n",
       "        text-align: right;\n",
       "    }\n",
       "</style>\n",
       "<table border=\"1\" class=\"dataframe\">\n",
       "  <thead>\n",
       "    <tr style=\"text-align: right;\">\n",
       "      <th></th>\n",
       "      <th>WHITE</th>\n",
       "      <th>HISP</th>\n",
       "      <th>BLACK</th>\n",
       "      <th>ASIAN</th>\n",
       "      <th>OTHER</th>\n",
       "    </tr>\n",
       "    <tr>\n",
       "      <th>YEAR</th>\n",
       "      <th></th>\n",
       "      <th></th>\n",
       "      <th></th>\n",
       "      <th></th>\n",
       "      <th></th>\n",
       "    </tr>\n",
       "  </thead>\n",
       "  <tbody>\n",
       "    <tr>\n",
       "      <th>2014</th>\n",
       "      <td>8.651525e+05</td>\n",
       "      <td>7.681103e+05</td>\n",
       "      <td>8.777990e+05</td>\n",
       "      <td>1.485548e+05</td>\n",
       "      <td>17687.947898</td>\n",
       "    </tr>\n",
       "    <tr>\n",
       "      <th>2015</th>\n",
       "      <td>8.951024e+06</td>\n",
       "      <td>3.700686e+06</td>\n",
       "      <td>2.907788e+06</td>\n",
       "      <td>1.067108e+06</td>\n",
       "      <td>292930.000000</td>\n",
       "    </tr>\n",
       "    <tr>\n",
       "      <th>2016</th>\n",
       "      <td>8.723740e+05</td>\n",
       "      <td>7.852760e+05</td>\n",
       "      <td>8.529830e+05</td>\n",
       "      <td>1.542850e+05</td>\n",
       "      <td>47270.000000</td>\n",
       "    </tr>\n",
       "    <tr>\n",
       "      <th>2017</th>\n",
       "      <td>8.750650e+05</td>\n",
       "      <td>7.906180e+05</td>\n",
       "      <td>8.398500e+05</td>\n",
       "      <td>1.602860e+05</td>\n",
       "      <td>50995.000000</td>\n",
       "    </tr>\n",
       "    <tr>\n",
       "      <th>2018</th>\n",
       "      <td>8.775320e+05</td>\n",
       "      <td>7.905220e+05</td>\n",
       "      <td>8.292190e+05</td>\n",
       "      <td>1.634830e+05</td>\n",
       "      <td>52394.000000</td>\n",
       "    </tr>\n",
       "    <tr>\n",
       "      <th>2019</th>\n",
       "      <td>8.901510e+05</td>\n",
       "      <td>7.896970e+05</td>\n",
       "      <td>8.195850e+05</td>\n",
       "      <td>1.675240e+05</td>\n",
       "      <td>54777.000000</td>\n",
       "    </tr>\n",
       "    <tr>\n",
       "      <th>2020</th>\n",
       "      <td>8.920981e+05</td>\n",
       "      <td>7.880956e+05</td>\n",
       "      <td>8.077477e+05</td>\n",
       "      <td>1.729269e+05</td>\n",
       "      <td>56919.793577</td>\n",
       "    </tr>\n",
       "  </tbody>\n",
       "</table>\n",
       "</div>"
      ],
      "text/plain": [
       "             WHITE          HISP         BLACK         ASIAN          OTHER\n",
       "YEAR                                                                       \n",
       "2014  8.651525e+05  7.681103e+05  8.777990e+05  1.485548e+05   17687.947898\n",
       "2015  8.951024e+06  3.700686e+06  2.907788e+06  1.067108e+06  292930.000000\n",
       "2016  8.723740e+05  7.852760e+05  8.529830e+05  1.542850e+05   47270.000000\n",
       "2017  8.750650e+05  7.906180e+05  8.398500e+05  1.602860e+05   50995.000000\n",
       "2018  8.775320e+05  7.905220e+05  8.292190e+05  1.634830e+05   52394.000000\n",
       "2019  8.901510e+05  7.896970e+05  8.195850e+05  1.675240e+05   54777.000000\n",
       "2020  8.920981e+05  7.880956e+05  8.077477e+05  1.729269e+05   56919.793577"
      ]
     },
     "execution_count": 39,
     "metadata": {},
     "output_type": "execute_result"
    }
   ],
   "source": [
    "df_race_by_year #- df_race_by_year.shift(1)"
   ]
  },
  {
   "cell_type": "code",
   "execution_count": null,
   "metadata": {},
   "outputs": [],
   "source": []
  },
  {
   "cell_type": "code",
   "execution_count": null,
   "metadata": {},
   "outputs": [],
   "source": []
  },
  {
   "cell_type": "code",
   "execution_count": 25,
   "metadata": {},
   "outputs": [],
   "source": [
    "race_columns = ['WHITE', 'HISP', 'BLACK', 'ASIAN', 'OTHER']\n",
    "df_race_by_year = df_all_data.groupby(by='YEAR').sum()[race_columns] \n",
    "df_race_chg = (df_race_by_year - df_race_by_year.shift(1)).cumsum()"
   ]
  },
  {
   "cell_type": "code",
   "execution_count": 26,
   "metadata": {},
   "outputs": [
    {
     "data": {
      "image/png": "[encoded data removed]",
      "text/plain": [
       "<Figure size 432x288 with 1 Axes>"
      ]
     },
     "metadata": {
      "needs_background": "light"
     },
     "output_type": "display_data"
    }
   ],
   "source": [
    "for race in race_columns:\n",
    "    r = race.capitalize()\n",
    "    a = df_race_chg[race].to_numpy()\n",
    "    a[0] = 0\n",
    "    plt.plot(years, a, label=r)\n",
    "\n",
    "plt.xlabel('Year')\n",
    "plt.ylabel('Absolute change in population')\n",
    "#plt.ylim([-35000,25000])\n",
    "plt.legend()\n",
    "t = plt.title(\"Cumulative change in population by race\")"
   ]
  },
  {
   "cell_type": "code",
   "execution_count": null,
   "metadata": {},
   "outputs": [],
   "source": []
  }
 ],
 "metadata": {
  "kernelspec": {
   "display_name": "Python 3",
   "language": "python",
   "name": "python3"
  },
  "language_info": {
   "codemirror_mode": {
    "name": "ipython",
    "version": 3
   },
   "file_extension": ".py",
   "mimetype": "text/x-python",
   "name": "python",
   "nbconvert_exporter": "python",
   "pygments_lexer": "ipython3",
   "version": "3.7.6"
  }
 },
 "nbformat": 4,
 "nbformat_minor": 4
}
