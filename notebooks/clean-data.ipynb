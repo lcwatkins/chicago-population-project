{
 "cells": [
  {
   "cell_type": "code",
   "execution_count": 1,
   "metadata": {},
   "outputs": [],
   "source": [
    "import numpy as np\n",
    "import pandas as pd\n",
    "import matplotlib.pyplot as plt\n",
    "%matplotlib inline"
   ]
  },
  {
   "cell_type": "code",
   "execution_count": 15,
   "metadata": {},
   "outputs": [],
   "source": [
    "df_2014 = pd.read_csv(\"../data/raw/CDSarchive201403/Reference_CCAProfiles_2008_2012.csv\")\n",
    "df_2015 = pd.read_csv(\"../data/raw/CDSarchive201508/Reference_CCAProfiles_2009_2013.csv\")\n",
    "df_2016 = pd.read_csv(\"../data/raw/CDSarchive201606/Reference_CCAProfiles_2010_2014.csv\")\n",
    "df_2017 = pd.read_csv(\"../data/raw/CDSarchive201706/Reference_CCAProfiles_2011_2015.csv\")\n",
    "df_2018 = pd.read_csv(\"../data/raw/CDSarchive201811/Reference_CCAProfiles_2012_2016.csv\")\n",
    "df_2019 = pd.read_csv(\"../data/raw/CDSarchive201906/Reference_CCAProfiles_2013_2017.csv\")\n",
    "df_2020 = pd.read_csv(\"../data/raw/CDSarchive202007/ReferenceCCAProfiles20142018.csv\")"
   ]
  },
  {
   "cell_type": "code",
   "execution_count": 16,
   "metadata": {},
   "outputs": [],
   "source": [
    "# starting analysis with these columns\n",
    "need_columns= ['GEOG', '2000_POP', '2010_POP', 'TOT_POP', 'YEAR', 'MEDINC', 'EMP', 'IN_LBFRC', 'OWN_OCC_HU', \n",
    "               'RENT_OCC_HU', 'VAC_HU', 'TOT_HH', 'HU_SNG_DET', 'HU_SNG_ATT', 'HU_2UN', 'HU_3_4UN', 'HU_GT_5UN', \n",
    "               'MED_HA', 'BR_0_1', 'BR_2', 'BR_3', 'BR_4', 'BR_5','WHITE', 'HISP', 'BLACK', 'ASIAN', 'OTHER']"
   ]
  },
  {
   "cell_type": "code",
   "execution_count": 458,
   "metadata": {},
   "outputs": [],
   "source": [
    "#df_2020.drop(df_2020[df_2020['GEOG'].isna()].index, inplace=True)\n",
    "#df_2020['HU_GT_5UN'] =  df_2020['HU_5_9UN'] + df_2020['HU_GT_19UN']"
   ]
  },
  {
   "cell_type": "code",
   "execution_count": 17,
   "metadata": {},
   "outputs": [],
   "source": [
    "all_dfs ={2014: df_2014, \n",
    "          2015: df_2015, \n",
    "          2016: df_2016, \n",
    "          2017: df_2017,\n",
    "          2018: df_2018,\n",
    "          2019: df_2019,\n",
    "          2020: df_2020}\n",
    "\n",
    "years = [x for x in range(2014,2021)]"
   ]
  },
  {
   "cell_type": "markdown",
   "metadata": {},
   "source": [
    "### Initial data cleaning"
   ]
  },
  {
   "cell_type": "code",
   "execution_count": 18,
   "metadata": {},
   "outputs": [],
   "source": [
    "rename_columns = {\"CCA\": \"GEOG\",\n",
    "                 'RNT_OCC_HU': 'RENT_OCC_HU',\n",
    "                  'MED_INC' : 'MEDINC'\n",
    "                 }\n",
    "df_list = []\n",
    "for y in years:\n",
    "    df = all_dfs[y]\n",
    "    ycol = [y]*len(df)\n",
    "    df['YEAR'] = ycol\n",
    "    df = df.rename(columns=rename_columns)\n",
    "    \n",
    "    c = df.columns.to_list()\n",
    "    df = df.drop(columns=list(set(c) - set(need_columns)))\n",
    "\n",
    "    df_list.append(df)\n",
    "    df.to_csv(\"../data/clean/{}.csv\".format(y))"
   ]
  },
  {
   "cell_type": "code",
   "execution_count": 19,
   "metadata": {},
   "outputs": [
    {
     "name": "stdout",
     "output_type": "stream",
     "text": [
      "1\n",
      "1\n",
      "1\n",
      "1\n",
      "1\n",
      "1\n",
      "1\n"
     ]
    }
   ],
   "source": [
    "for df in df_list:\n",
    "    print(1)\n",
    "    try:\n",
    "        df[need_columns]\n",
    "    except:\n",
    "        print(\"missing\")"
   ]
  },
  {
   "cell_type": "code",
   "execution_count": 20,
   "metadata": {},
   "outputs": [
    {
     "data": {
      "text/plain": [
       "(539, 28)"
      ]
     },
     "execution_count": 20,
     "metadata": {},
     "output_type": "execute_result"
    }
   ],
   "source": [
    "df_all_data = pd.concat(df_list)\n",
    "df_all_data.shape"
   ]
  },
  {
   "cell_type": "code",
   "execution_count": null,
   "metadata": {},
   "outputs": [],
   "source": []
  },
  {
   "cell_type": "markdown",
   "metadata": {},
   "source": [
    "### Feature generation"
   ]
  },
  {
   "cell_type": "markdown",
   "metadata": {},
   "source": [
    "##### predictor columns\n",
    "- unemployment rate\n",
    "- race\n",
    "- median income\n",
    "- income index relative to city overall?\n",
    "- % rented housing units\n",
    "- % owned housing units\n",
    "- % or number vacant\n",
    "- housing type\n",
    "- housing age\n",
    "- housing size\n"
   ]
  },
  {
   "cell_type": "code",
   "execution_count": 21,
   "metadata": {},
   "outputs": [],
   "source": [
    "employment_rate = df_all_data['EMP']/df_all_data['IN_LBFRC']\n",
    "df_all_data['EMP_RATE'] = employment_rate"
   ]
  },
  {
   "cell_type": "code",
   "execution_count": 22,
   "metadata": {},
   "outputs": [],
   "source": [
    "race_columns = ['WHITE', 'HISP', 'BLACK', 'ASIAN', 'OTHER']\n",
    "\n",
    "for race in race_columns:\n",
    "    pct = df_all_data[race]/df_all_data['TOT_POP']\n",
    "    name = race + \"_PCT\"\n",
    "    df_all_data[name] = pct"
   ]
  },
  {
   "cell_type": "code",
   "execution_count": 23,
   "metadata": {},
   "outputs": [],
   "source": [
    "rnt_own_columns = ['OWN_OCC_HU', 'RENT_OCC_HU', 'VAC_HU']\n",
    "\n",
    "for r in rnt_own_columns:\n",
    "    pct = df_all_data[r]/df_all_data['TOT_HH']\n",
    "    name = r + \"_PCT\"\n",
    "    df_all_data[name] = pct"
   ]
  },
  {
   "cell_type": "code",
   "execution_count": 24,
   "metadata": {},
   "outputs": [],
   "source": [
    "df_all_data.to_csv(\"../data/clean/clean_data.csv\")"
   ]
  }
 ],
 "metadata": {
  "kernelspec": {
   "display_name": "Python 3",
   "language": "python",
   "name": "python3"
  },
  "language_info": {
   "codemirror_mode": {
    "name": "ipython",
    "version": 3
   },
   "file_extension": ".py",
   "mimetype": "text/x-python",
   "name": "python",
   "nbconvert_exporter": "python",
   "pygments_lexer": "ipython3",
   "version": "3.7.6"
  }
 },
 "nbformat": 4,
 "nbformat_minor": 4
}
