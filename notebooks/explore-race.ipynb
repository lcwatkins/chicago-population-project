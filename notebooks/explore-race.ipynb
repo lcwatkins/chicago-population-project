{
 "cells": [
  {
   "cell_type": "code",
   "execution_count": 1,
   "metadata": {},
   "outputs": [],
   "source": [
    "import numpy as np\n",
    "import pandas as pd\n",
    "import matplotlib.pyplot as plt\n",
    "%matplotlib inline"
   ]
  },
  {
   "cell_type": "code",
   "execution_count": 19,
   "metadata": {},
   "outputs": [],
   "source": [
    "df_all_data = pd.read_csv(\"../data/clean/clean_data.csv\")"
   ]
  },
  {
   "cell_type": "code",
   "execution_count": 20,
   "metadata": {},
   "outputs": [],
   "source": [
    "years = [x for x in range(2014,2021)]"
   ]
  },
  {
   "cell_type": "code",
   "execution_count": 21,
   "metadata": {},
   "outputs": [],
   "source": [
    "race_columns = ['WHITE', 'HISP', 'BLACK', 'ASIAN', 'OTHER']\n",
    "df_race_by_year = df_all_data.groupby(by='YEAR').sum()[race_columns] \n",
    "df_race_chg = (df_race_by_year - df_race_by_year.shift(1)).cumsum()"
   ]
  },
  {
   "cell_type": "code",
   "execution_count": 22,
   "metadata": {},
   "outputs": [
    {
     "data": {
      "text/html": [
       "<div>\n",
       "<style scoped>\n",
       "    .dataframe tbody tr th:only-of-type {\n",
       "        vertical-align: middle;\n",
       "    }\n",
       "\n",
       "    .dataframe tbody tr th {\n",
       "        vertical-align: top;\n",
       "    }\n",
       "\n",
       "    .dataframe thead th {\n",
       "        text-align: right;\n",
       "    }\n",
       "</style>\n",
       "<table border=\"1\" class=\"dataframe\">\n",
       "  <thead>\n",
       "    <tr style=\"text-align: right;\">\n",
       "      <th></th>\n",
       "      <th>WHITE</th>\n",
       "      <th>HISP</th>\n",
       "      <th>BLACK</th>\n",
       "      <th>ASIAN</th>\n",
       "      <th>OTHER</th>\n",
       "    </tr>\n",
       "    <tr>\n",
       "      <th>YEAR</th>\n",
       "      <th></th>\n",
       "      <th></th>\n",
       "      <th></th>\n",
       "      <th></th>\n",
       "      <th></th>\n",
       "    </tr>\n",
       "  </thead>\n",
       "  <tbody>\n",
       "    <tr>\n",
       "      <th>2014</th>\n",
       "      <td>865152.524491</td>\n",
       "      <td>768110.291716</td>\n",
       "      <td>877798.952162</td>\n",
       "      <td>148554.833035</td>\n",
       "      <td>17687.947898</td>\n",
       "    </tr>\n",
       "    <tr>\n",
       "      <th>2015</th>\n",
       "      <td>870564.000000</td>\n",
       "      <td>775723.000000</td>\n",
       "      <td>862302.000000</td>\n",
       "      <td>152971.000000</td>\n",
       "      <td>44196.000000</td>\n",
       "    </tr>\n",
       "    <tr>\n",
       "      <th>2016</th>\n",
       "      <td>872374.000000</td>\n",
       "      <td>785276.000000</td>\n",
       "      <td>852983.000000</td>\n",
       "      <td>154285.000000</td>\n",
       "      <td>47270.000000</td>\n",
       "    </tr>\n",
       "    <tr>\n",
       "      <th>2017</th>\n",
       "      <td>875065.000000</td>\n",
       "      <td>790618.000000</td>\n",
       "      <td>839850.000000</td>\n",
       "      <td>160286.000000</td>\n",
       "      <td>50995.000000</td>\n",
       "    </tr>\n",
       "    <tr>\n",
       "      <th>2018</th>\n",
       "      <td>877532.000000</td>\n",
       "      <td>790522.000000</td>\n",
       "      <td>829219.000000</td>\n",
       "      <td>163483.000000</td>\n",
       "      <td>52394.000000</td>\n",
       "    </tr>\n",
       "    <tr>\n",
       "      <th>2019</th>\n",
       "      <td>890151.000000</td>\n",
       "      <td>789697.000000</td>\n",
       "      <td>819585.000000</td>\n",
       "      <td>167524.000000</td>\n",
       "      <td>54777.000000</td>\n",
       "    </tr>\n",
       "    <tr>\n",
       "      <th>2020</th>\n",
       "      <td>892098.104900</td>\n",
       "      <td>788095.630685</td>\n",
       "      <td>807747.713720</td>\n",
       "      <td>172926.937146</td>\n",
       "      <td>56919.793577</td>\n",
       "    </tr>\n",
       "  </tbody>\n",
       "</table>\n",
       "</div>"
      ],
      "text/plain": [
       "              WHITE           HISP          BLACK          ASIAN         OTHER\n",
       "YEAR                                                                          \n",
       "2014  865152.524491  768110.291716  877798.952162  148554.833035  17687.947898\n",
       "2015  870564.000000  775723.000000  862302.000000  152971.000000  44196.000000\n",
       "2016  872374.000000  785276.000000  852983.000000  154285.000000  47270.000000\n",
       "2017  875065.000000  790618.000000  839850.000000  160286.000000  50995.000000\n",
       "2018  877532.000000  790522.000000  829219.000000  163483.000000  52394.000000\n",
       "2019  890151.000000  789697.000000  819585.000000  167524.000000  54777.000000\n",
       "2020  892098.104900  788095.630685  807747.713720  172926.937146  56919.793577"
      ]
     },
     "execution_count": 22,
     "metadata": {},
     "output_type": "execute_result"
    }
   ],
   "source": [
    "df_all_data.groupby(by='YEAR').sum()[race_columns]"
   ]
  },
  {
   "cell_type": "code",
   "execution_count": 26,
   "metadata": {},
   "outputs": [
    {
     "data": {
      "image/png": "[encoded data removed]",
      "text/plain": [
       "<Figure size 432x288 with 1 Axes>"
      ]
     },
     "metadata": {
      "needs_background": "light"
     },
     "output_type": "display_data"
    }
   ],
   "source": [
    "for race in race_columns:\n",
    "    r = race.capitalize()\n",
    "    a = df_race_chg[race].to_numpy()\n",
    "    a[0] = 0\n",
    "    plt.plot(years, a, label=r)\n",
    "\n",
    "plt.xlabel('Year')\n",
    "plt.ylabel('Population change (# people)')\n",
    "plt.ylim([-80000,45000])\n",
    "plt.legend()\n",
    "t = plt.title(\"Cumulative change in population by race\")"
   ]
  },
  {
   "cell_type": "markdown",
   "metadata": {},
   "source": [
    "### Explanation"
   ]
  },
  {
   "cell_type": "markdown",
   "metadata": {},
   "source": [
    "This shows the remarkable difference in population change when broken down by race. Next steps are to answer, in which neighborhoods are these changes taking place? Can these neighborhoods be grouped in any way to explain the change?"
   ]
  },
  {
   "cell_type": "code",
   "execution_count": null,
   "metadata": {},
   "outputs": [],
   "source": []
  }
 ],
 "metadata": {
  "kernelspec": {
   "display_name": "Python 3",
   "language": "python",
   "name": "python3"
  },
  "language_info": {
   "codemirror_mode": {
    "name": "ipython",
    "version": 3
   },
   "file_extension": ".py",
   "mimetype": "text/x-python",
   "name": "python",
   "nbconvert_exporter": "python",
   "pygments_lexer": "ipython3",
   "version": "3.7.6"
  }
 },
 "nbformat": 4,
 "nbformat_minor": 4
}
