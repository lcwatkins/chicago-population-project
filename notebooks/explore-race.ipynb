{
 "cells": [
  {
   "cell_type": "code",
   "execution_count": 1,
   "metadata": {},
   "outputs": [],
   "source": [
    "import numpy as np\n",
    "import pandas as pd\n",
    "import matplotlib.pyplot as plt\n",
    "%matplotlib inline"
   ]
  },
  {
   "cell_type": "code",
   "execution_count": 14,
   "metadata": {},
   "outputs": [],
   "source": [
    "df_all_data = pd.read_csv(\"../data/clean/clean_data.csv\")"
   ]
  },
  {
   "cell_type": "code",
   "execution_count": 15,
   "metadata": {},
   "outputs": [],
   "source": [
    "years = [x for x in range(2014,2021)]"
   ]
  },
  {
   "cell_type": "code",
   "execution_count": 16,
   "metadata": {},
   "outputs": [],
   "source": [
    "race_columns = ['WHITE', 'HISP', 'BLACK', 'ASIAN', 'OTHER']\n",
    "df_race_by_year = df_all_data.groupby(by='YEAR').sum()[race_columns] \n",
    "df_race_chg = (df_race_by_year - df_race_by_year.shift(1)).cumsum()"
   ]
  },
  {
   "cell_type": "code",
   "execution_count": 17,
   "metadata": {},
   "outputs": [
    {
     "data": {
      "text/html": [
       "<div>\n",
       "<style scoped>\n",
       "    .dataframe tbody tr th:only-of-type {\n",
       "        vertical-align: middle;\n",
       "    }\n",
       "\n",
       "    .dataframe tbody tr th {\n",
       "        vertical-align: top;\n",
       "    }\n",
       "\n",
       "    .dataframe thead th {\n",
       "        text-align: right;\n",
       "    }\n",
       "</style>\n",
       "<table border=\"1\" class=\"dataframe\">\n",
       "  <thead>\n",
       "    <tr style=\"text-align: right;\">\n",
       "      <th></th>\n",
       "      <th>WHITE</th>\n",
       "      <th>HISP</th>\n",
       "      <th>BLACK</th>\n",
       "      <th>ASIAN</th>\n",
       "      <th>OTHER</th>\n",
       "    </tr>\n",
       "    <tr>\n",
       "      <th>YEAR</th>\n",
       "      <th></th>\n",
       "      <th></th>\n",
       "      <th></th>\n",
       "      <th></th>\n",
       "      <th></th>\n",
       "    </tr>\n",
       "  </thead>\n",
       "  <tbody>\n",
       "    <tr>\n",
       "      <th>2014</th>\n",
       "      <td>8.651525e+05</td>\n",
       "      <td>7.681103e+05</td>\n",
       "      <td>8.777990e+05</td>\n",
       "      <td>1.485548e+05</td>\n",
       "      <td>17687.947898</td>\n",
       "    </tr>\n",
       "    <tr>\n",
       "      <th>2015</th>\n",
       "      <td>8.951024e+06</td>\n",
       "      <td>3.700686e+06</td>\n",
       "      <td>2.907788e+06</td>\n",
       "      <td>1.067108e+06</td>\n",
       "      <td>292930.000000</td>\n",
       "    </tr>\n",
       "    <tr>\n",
       "      <th>2016</th>\n",
       "      <td>8.723740e+05</td>\n",
       "      <td>7.852760e+05</td>\n",
       "      <td>8.529830e+05</td>\n",
       "      <td>1.542850e+05</td>\n",
       "      <td>47270.000000</td>\n",
       "    </tr>\n",
       "    <tr>\n",
       "      <th>2017</th>\n",
       "      <td>8.750650e+05</td>\n",
       "      <td>7.906180e+05</td>\n",
       "      <td>8.398500e+05</td>\n",
       "      <td>1.602860e+05</td>\n",
       "      <td>50995.000000</td>\n",
       "    </tr>\n",
       "    <tr>\n",
       "      <th>2018</th>\n",
       "      <td>8.775320e+05</td>\n",
       "      <td>7.905220e+05</td>\n",
       "      <td>8.292190e+05</td>\n",
       "      <td>1.634830e+05</td>\n",
       "      <td>52394.000000</td>\n",
       "    </tr>\n",
       "    <tr>\n",
       "      <th>2019</th>\n",
       "      <td>8.901510e+05</td>\n",
       "      <td>7.896970e+05</td>\n",
       "      <td>8.195850e+05</td>\n",
       "      <td>1.675240e+05</td>\n",
       "      <td>54777.000000</td>\n",
       "    </tr>\n",
       "    <tr>\n",
       "      <th>2020</th>\n",
       "      <td>8.920981e+05</td>\n",
       "      <td>7.880956e+05</td>\n",
       "      <td>8.077477e+05</td>\n",
       "      <td>1.729269e+05</td>\n",
       "      <td>56919.793577</td>\n",
       "    </tr>\n",
       "  </tbody>\n",
       "</table>\n",
       "</div>"
      ],
      "text/plain": [
       "             WHITE          HISP         BLACK         ASIAN          OTHER\n",
       "YEAR                                                                       \n",
       "2014  8.651525e+05  7.681103e+05  8.777990e+05  1.485548e+05   17687.947898\n",
       "2015  8.951024e+06  3.700686e+06  2.907788e+06  1.067108e+06  292930.000000\n",
       "2016  8.723740e+05  7.852760e+05  8.529830e+05  1.542850e+05   47270.000000\n",
       "2017  8.750650e+05  7.906180e+05  8.398500e+05  1.602860e+05   50995.000000\n",
       "2018  8.775320e+05  7.905220e+05  8.292190e+05  1.634830e+05   52394.000000\n",
       "2019  8.901510e+05  7.896970e+05  8.195850e+05  1.675240e+05   54777.000000\n",
       "2020  8.920981e+05  7.880956e+05  8.077477e+05  1.729269e+05   56919.793577"
      ]
     },
     "execution_count": 17,
     "metadata": {},
     "output_type": "execute_result"
    }
   ],
   "source": [
    "df_all_data.groupby(by='YEAR').sum()[race_columns]"
   ]
  },
  {
   "cell_type": "code",
   "execution_count": 18,
   "metadata": {},
   "outputs": [
    {
     "data": {
      "image/png": "[encoded data removed]",
      "text/plain": [
       "<Figure size 432x288 with 1 Axes>"
      ]
     },
     "metadata": {
      "needs_background": "light"
     },
     "output_type": "display_data"
    }
   ],
   "source": [
    "for race in race_columns:\n",
    "    r = race.capitalize()\n",
    "    a = df_race_chg[race].to_numpy()\n",
    "    a[0] = 0\n",
    "    plt.plot(years, a, label=r)\n",
    "\n",
    "plt.xlabel('Year')\n",
    "plt.ylabel('Absolute change in population')\n",
    "#plt.ylim([-35000,25000])\n",
    "plt.legend()\n",
    "t = plt.title(\"Cumulative change in population by race\")"
   ]
  },
  {
   "cell_type": "markdown",
   "metadata": {},
   "source": [
    "### Explanation"
   ]
  },
  {
   "cell_type": "markdown",
   "metadata": {},
   "source": [
    "This shows the remarkable difference in population change when broken down by race. Next steps are to answer, in which neighborhoods are these changes taking place? Can these neighborhoods be grouped in any way to explain the change?"
   ]
  },
  {
   "cell_type": "code",
   "execution_count": null,
   "metadata": {},
   "outputs": [],
   "source": []
  }
 ],
 "metadata": {
  "kernelspec": {
   "display_name": "Python 3",
   "language": "python",
   "name": "python3"
  },
  "language_info": {
   "codemirror_mode": {
    "name": "ipython",
    "version": 3
   },
   "file_extension": ".py",
   "mimetype": "text/x-python",
   "name": "python",
   "nbconvert_exporter": "python",
   "pygments_lexer": "ipython3",
   "version": "3.7.6"
  }
 },
 "nbformat": 4,
 "nbformat_minor": 4
}
